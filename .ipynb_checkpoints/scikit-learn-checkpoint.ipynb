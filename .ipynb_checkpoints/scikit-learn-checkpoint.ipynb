{
 "cells": [
  {
   "cell_type": "markdown",
   "id": "cf7e66e6",
   "metadata": {},
   "source": [
    "# Learning Scikit-learn\n",
    "This is a notebook for learning the most populer machine learning librery named **scikit-learn** with the help of a video from freecodecamp - [Link](https://youtu.be/pqNCD_5r0IU)"
   ]
  },
  {
   "cell_type": "markdown",
   "id": "52ea7618",
   "metadata": {},
   "source": [
    "### What is Scikit-learn?\n",
    "Scikit-learn is a free software machine learning library for the Python programming language. It features various classification, regression and clustering algorithms including support-vector machines, random forests, gradient boosting, k-means and DBSCAN, and is designed to interoperate with the Python numerical and scientific libraries NumPy and SciPy.\n",
    "Website - [https://scikit-learn.org/](https://scikit-learn.org/)"
   ]
  },
  {
   "cell_type": "code",
   "execution_count": 6,
   "id": "7083a565",
   "metadata": {},
   "outputs": [],
   "source": [
    "import numpy as np\n",
    "import pandas as pd\n",
    "import matplotlib.pyplot as plt\n",
    "import seaborn as sns\n",
    "%matplotlib inline"
   ]
  },
  {
   "cell_type": "markdown",
   "id": "96ef0fc1",
   "metadata": {},
   "source": [
    "## Saving and Opening a model"
   ]
  },
  {
   "cell_type": "code",
   "execution_count": 5,
   "id": "962f0b00",
   "metadata": {},
   "outputs": [],
   "source": [
    "import joblib"
   ]
  },
  {
   "cell_type": "code",
   "execution_count": 7,
   "id": "21a48e16",
   "metadata": {},
   "outputs": [
    {
     "data": {
      "text/plain": [
       "['test_model.sav']"
      ]
     },
     "execution_count": 7,
     "metadata": {},
     "output_type": "execute_result"
    }
   ],
   "source": [
    "model = {\"name\":\"akash\"}\n",
    "\n",
    "# Saving\n",
    "filename = \"test_model.sav\"\n",
    "joblib.dump(model, filename)"
   ]
  },
  {
   "cell_type": "code",
   "execution_count": null,
   "id": "12c11185",
   "metadata": {},
   "outputs": [],
   "source": []
  },
  {
   "cell_type": "code",
   "execution_count": null,
   "id": "84ec4c1a",
   "metadata": {},
   "outputs": [],
   "source": []
  }
 ],
 "metadata": {
  "kernelspec": {
   "display_name": "Python 3",
   "language": "python",
   "name": "python3"
  },
  "language_info": {
   "codemirror_mode": {
    "name": "ipython",
    "version": 3
   },
   "file_extension": ".py",
   "mimetype": "text/x-python",
   "name": "python",
   "nbconvert_exporter": "python",
   "pygments_lexer": "ipython3",
   "version": "3.8.8"
  }
 },
 "nbformat": 4,
 "nbformat_minor": 5
}
