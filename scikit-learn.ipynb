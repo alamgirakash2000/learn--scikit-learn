{
 "cells": [
  {
   "cell_type": "markdown",
   "id": "ea9b55e3",
   "metadata": {},
   "source": [
    "# Learning Scikit-learn\n",
    "This is a notebook for learning the most populer machine learning librery named **scikit-learn** with the help of a video from freecodecamp - [Link](https://youtu.be/pqNCD_5r0IU)"
   ]
  },
  {
   "cell_type": "markdown",
   "id": "a5942f0e",
   "metadata": {},
   "source": [
    "### What is Scikit-learn?\n",
    "Scikit-learn is a free software machine learning library for the Python programming language. It features various classification, regression and clustering algorithms including support-vector machines, random forests, gradient boosting, k-means and DBSCAN, and is designed to interoperate with the Python numerical and scientific libraries NumPy and SciPy.\n",
    "Website - [https://scikit-learn.org/](https://scikit-learn.org/)"
   ]
  },
  {
   "cell_type": "code",
   "execution_count": null,
   "id": "11e0c8ff",
   "metadata": {},
   "outputs": [],
   "source": [
    "import numpy as np\n",
    "import pandas as pd\n",
    "import matplotlib.pyplot as plt\n",
    "import seaborn as sns\n",
    "%matplotlib inline"
   ]
  },
  {
   "cell_type": "markdown",
   "id": "cd8710e6",
   "metadata": {},
   "source": [
    "## Saving and Opening a model"
   ]
  },
  {
   "cell_type": "code",
   "execution_count": null,
   "id": "a88dfc13",
   "metadata": {},
   "outputs": [],
   "source": []
  }
 ],
 "metadata": {
  "kernelspec": {
   "display_name": "Python 3",
   "language": "python",
   "name": "python3"
  },
  "language_info": {
   "codemirror_mode": {
    "name": "ipython",
    "version": 3
   },
   "file_extension": ".py",
   "mimetype": "text/x-python",
   "name": "python",
   "nbconvert_exporter": "python",
   "pygments_lexer": "ipython3",
   "version": "3.8.8"
  }
 },
 "nbformat": 4,
 "nbformat_minor": 5
}
